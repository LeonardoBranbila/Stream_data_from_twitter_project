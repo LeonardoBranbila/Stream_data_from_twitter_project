{
 "cells": [
  {
   "cell_type": "code",
   "execution_count": 17,
   "id": "portuguese-contest",
   "metadata": {},
   "outputs": [],
   "source": [
    "!pip install tweepy\n",
    "!pip3 install -U scikit-learn\n"
   ]
  },
  {
   "cell_type": "code",
   "execution_count": null,
   "id": "descending-sheffield",
   "metadata": {},
   "outputs": [],
   "source": [
    "from tweepy.streaming import StreamListener\n",
    "from tweepy import OAuthHandler\n",
    "from tweepy import Stream\n",
    "from datetime import datetime\n",
    "from pymongo import MongoClient\n",
    "import json"
   ]
  },
  {
   "cell_type": "code",
   "execution_count": 6,
   "id": "increasing-australia",
   "metadata": {},
   "outputs": [],
   "source": [
    "consumer_key=''"
   ]
  },
  {
   "cell_type": "code",
   "execution_count": 7,
   "id": "worth-creation",
   "metadata": {},
   "outputs": [],
   "source": [
    "consumer_secret=''"
   ]
  },
  {
   "cell_type": "code",
   "execution_count": 8,
   "id": "consistent-macro",
   "metadata": {},
   "outputs": [],
   "source": [
    "access_token=''"
   ]
  },
  {
   "cell_type": "code",
   "execution_count": 9,
   "id": "fitted-grocery",
   "metadata": {},
   "outputs": [],
   "source": [
    "access_token_secret=''"
   ]
  },
  {
   "cell_type": "code",
   "execution_count": 10,
   "id": "satisfactory-conditions",
   "metadata": {},
   "outputs": [],
   "source": [
    "auth= OAuthHandler(consumer_key, consumer_secret)"
   ]
  },
  {
   "cell_type": "code",
   "execution_count": 12,
   "id": "typical-vault",
   "metadata": {},
   "outputs": [],
   "source": [
    "auth.set_access_token(access_token, access_token_secret)"
   ]
  },
  {
   "cell_type": "code",
   "execution_count": 14,
   "id": "municipal-daisy",
   "metadata": {},
   "outputs": [],
   "source": [
    "# criando uma classe para capturar os stream de dados do tweeter e\n",
    "# armazenar no MongoDB\n",
    "\n",
    "class MyListener(StreamListener):\n",
    "    def on_data(self, dados):\n",
    "        tweet= json.loads(dados)\n",
    "        created_at= tweet['created_at']\n",
    "        id_str= tweet['id_str']\n",
    "        text= tweet['text']\n",
    "        obj= {'created_at':created_at,'id_str':id_str,'text':text,}\n",
    "        tweetind= col.insert_one(obj).inserted_id\n",
    "        print(obj)\n",
    "        return True"
   ]
  },
  {
   "cell_type": "code",
   "execution_count": 15,
   "id": "selective-transcription",
   "metadata": {},
   "outputs": [],
   "source": [
    "myListener= MyListener()"
   ]
  },
  {
   "cell_type": "code",
   "execution_count": 16,
   "id": "optional-yacht",
   "metadata": {},
   "outputs": [],
   "source": [
    "mystream= Stream(auth, listener= myListener)"
   ]
  },
  {
   "cell_type": "markdown",
   "id": "explicit-length",
   "metadata": {},
   "source": [
    "## conectando com o Mongo"
   ]
  },
  {
   "cell_type": "code",
   "execution_count": 18,
   "id": "sonic-recommendation",
   "metadata": {},
   "outputs": [],
   "source": [
    "client_con= MongoClient('localhost', 6660)"
   ]
  },
  {
   "cell_type": "code",
   "execution_count": 19,
   "id": "wired-utilization",
   "metadata": {},
   "outputs": [],
   "source": [
    "db= client_con.twitterdb"
   ]
  },
  {
   "cell_type": "code",
   "execution_count": 20,
   "id": "blank-musical",
   "metadata": {},
   "outputs": [],
   "source": [
    "col= db.tweets"
   ]
  },
  {
   "cell_type": "code",
   "execution_count": 21,
   "id": "champion-antique",
   "metadata": {},
   "outputs": [],
   "source": [
    "keywords= ['Big Data', 'Python', 'Data Mining', 'Data Science']"
   ]
  },
  {
   "cell_type": "code",
   "execution_count": null,
   "id": "universal-smoke",
   "metadata": {},
   "outputs": [],
   "source": [
    "mystream.filter(track=keywords)"
   ]
  },
  {
   "cell_type": "code",
   "execution_count": 24,
   "id": "reserved-forge",
   "metadata": {},
   "outputs": [],
   "source": [
    "mystream.disconnect()"
   ]
  },
  {
   "cell_type": "markdown",
   "id": "convenient-heating",
   "metadata": {},
   "source": [
    "## Usando o pandas e scikit-learn para analisar os dados coletados"
   ]
  },
  {
   "cell_type": "code",
   "execution_count": 41,
   "id": "musical-submission",
   "metadata": {},
   "outputs": [],
   "source": [
    "#criando o dataset com os dados retornados do mongoDB\n",
    "dataset= [{'created_at':item ['created_at'], 'text':item['text'],} for item in col.find()]"
   ]
  },
  {
   "cell_type": "code",
   "execution_count": 42,
   "id": "seventh-bacon",
   "metadata": {},
   "outputs": [],
   "source": [
    "import pandas as pd"
   ]
  },
  {
   "cell_type": "code",
   "execution_count": 43,
   "id": "original-length",
   "metadata": {},
   "outputs": [],
   "source": [
    "df= pd.DataFrame(dataset)"
   ]
  },
  {
   "cell_type": "code",
   "execution_count": null,
   "id": "agricultural-provision",
   "metadata": {},
   "outputs": [],
   "source": [
    "df"
   ]
  },
  {
   "cell_type": "code",
   "execution_count": 48,
   "id": "cultural-version",
   "metadata": {},
   "outputs": [],
   "source": [
    "from sklearn.feature_extraction.text import CountVectorizer"
   ]
  },
  {
   "cell_type": "code",
   "execution_count": 51,
   "id": "therapeutic-selling",
   "metadata": {},
   "outputs": [],
   "source": [
    "cv= CountVectorizer()"
   ]
  },
  {
   "cell_type": "code",
   "execution_count": 52,
   "id": "offensive-delicious",
   "metadata": {},
   "outputs": [],
   "source": [
    "count_matrix= cv.fit_transform(df.text)"
   ]
  },
  {
   "cell_type": "code",
   "execution_count": null,
   "id": "another-fiber",
   "metadata": {},
   "outputs": [],
   "source": [
    "word_count= pd.DataFrame(cv.get_feature_names(), columns=['word'])\n",
    "word_count['count']= count_matrix.sum(axis=0).tolist()[0]\n",
    "word_count= word_count.sort_values('count', ascending=False).reset_index(drop=True)\n",
    "word_count[:50]"
   ]
  },
  {
   "cell_type": "markdown",
   "id": "yellow-nylon",
   "metadata": {},
   "source": [
    "# Fim"
   ]
  }
 ],
 "metadata": {
  "kernelspec": {
   "display_name": "Python 3",
   "language": "python",
   "name": "python3"
  },
  "language_info": {
   "codemirror_mode": {
    "name": "ipython",
    "version": 3
   },
   "file_extension": ".py",
   "mimetype": "text/x-python",
   "name": "python",
   "nbconvert_exporter": "python",
   "pygments_lexer": "ipython3",
   "version": "3.8.0"
  }
 },
 "nbformat": 4,
 "nbformat_minor": 5
}
